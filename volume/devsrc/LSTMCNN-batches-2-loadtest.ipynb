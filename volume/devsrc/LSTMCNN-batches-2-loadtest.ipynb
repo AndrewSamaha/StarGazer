{
 "cells": [
  {
   "cell_type": "code",
   "execution_count": 1,
   "metadata": {},
   "outputs": [],
   "source": [
    "import numpy as np\n",
    "import matplotlib.pyplot as plt\n",
    "\n",
    "import tensorflow as tf\n",
    "from tensorflow import keras\n",
    "from tensorflow.keras import layers\n",
    "\n",
    "import io\n",
    "import imageio\n",
    "from IPython.display import Image, display\n",
    "from ipywidgets import widgets, Layout, HBox\n",
    "from matplotlib.backends.backend_agg import FigureCanvasAgg as FigureCanvas\n",
    "from matplotlib.figure import Figure\n",
    "import math\n",
    "import imageio\n",
    "import datetime\n",
    "from os import walk"
   ]
  },
  {
   "cell_type": "code",
   "execution_count": 2,
   "metadata": {},
   "outputs": [],
   "source": [
    "savepath = '../img/one_channel/'\n",
    "start_date = datetime.date(2000, 1, 28)\n",
    "end_date = datetime.date(2021, 8, 11)\n",
    "delta = datetime.timedelta(days=1)"
   ]
  },
  {
   "cell_type": "code",
   "execution_count": 3,
   "metadata": {},
   "outputs": [],
   "source": [
    "from os import walk\n",
    "\n",
    "filenames = next(walk(savepath), (None, None, []))[2]  # [] if no file\n",
    "filenames = filenames\n",
    "filenames = filenames[:1000]"
   ]
  },
  {
   "cell_type": "code",
   "execution_count": 4,
   "metadata": {},
   "outputs": [
    {
     "name": "stdout",
     "output_type": "stream",
     "text": [
      "0%\n",
      "30%\n",
      "60%\n",
      "90%\n"
     ]
    },
    {
     "data": {
      "text/plain": [
       "(1000, 100, 100)"
      ]
     },
     "execution_count": 4,
     "metadata": {},
     "output_type": "execute_result"
    }
   ],
   "source": [
    "dataset = None\n",
    "for i,file in enumerate(filenames):\n",
    "    fullpath = savepath+file\n",
    "    im = imageio.get_reader(fullpath)\n",
    "    for frame in im:\n",
    "        frame.reshape(-1,100,100)\n",
    "        if dataset is None:\n",
    "            dataset = frame\n",
    "        else:\n",
    "            dataset = np.dstack((dataset, frame))\n",
    "    if i % 300 == 0:\n",
    "        percent = round(i*100/len(filenames))\n",
    "        print(f\"{percent}%\")\n",
    "        \n",
    "dataset = np.swapaxes(dataset, 0, 2)\n",
    "dataset.shape"
   ]
  },
  {
   "cell_type": "code",
   "execution_count": 5,
   "metadata": {},
   "outputs": [
    {
     "data": {
      "text/plain": [
       "(1000, 100, 100)"
      ]
     },
     "execution_count": 5,
     "metadata": {},
     "output_type": "execute_result"
    }
   ],
   "source": [
    "dataset.shape"
   ]
  },
  {
   "cell_type": "code",
   "execution_count": 6,
   "metadata": {},
   "outputs": [],
   "source": [
    "batchsize = 64\n",
    "#remainder = dataset.shape[0] % batchsize"
   ]
  },
  {
   "cell_type": "code",
   "execution_count": 7,
   "metadata": {},
   "outputs": [],
   "source": [
    "#dataset = dataset[:remainder * -1]\n",
    "#dataset.shape"
   ]
  },
  {
   "cell_type": "code",
   "execution_count": 8,
   "metadata": {},
   "outputs": [
    {
     "data": {
      "text/plain": [
       "(1000, 100, 100)"
      ]
     },
     "execution_count": 8,
     "metadata": {},
     "output_type": "execute_result"
    }
   ],
   "source": [
    "# this would break the dataset into batches, but we don't want to do that\n",
    "# instead, let's wait until we generate x_train\n",
    "#batches = dataset.shape[0] / 64\n",
    "#dataset = dataset.reshape(int(batchsize), int(batches), 100, 100)\n",
    "dataset.shape"
   ]
  },
  {
   "cell_type": "code",
   "execution_count": 9,
   "metadata": {},
   "outputs": [
    {
     "data": {
      "text/plain": [
       "(1000, 100, 100)"
      ]
     },
     "execution_count": 9,
     "metadata": {},
     "output_type": "execute_result"
    }
   ],
   "source": [
    "\n",
    "dataset.shape"
   ]
  },
  {
   "cell_type": "code",
   "execution_count": 10,
   "metadata": {},
   "outputs": [
    {
     "name": "stdout",
     "output_type": "stream",
     "text": [
      "(900, 100, 100)\n",
      "(100, 100, 100)\n"
     ]
    }
   ],
   "source": [
    "indexes = np.arange(dataset.shape[0])\n",
    "np.random.shuffle(indexes)\n",
    "train_index = indexes[: int(0.9 * dataset.shape[0])]\n",
    "val_index = indexes[int(0.9 * dataset.shape[0]) :]\n",
    "train_dataset = dataset[train_index]\n",
    "val_dataset = dataset[val_index]\n",
    "print(train_dataset.shape)\n",
    "print(val_dataset.shape)"
   ]
  },
  {
   "cell_type": "code",
   "execution_count": 11,
   "metadata": {},
   "outputs": [],
   "source": [
    "# Normalize the data to the 0-1 range.\n",
    "train_dataset = train_dataset / 255\n",
    "val_dataset = val_dataset / 255"
   ]
  },
  {
   "cell_type": "code",
   "execution_count": 12,
   "metadata": {},
   "outputs": [
    {
     "name": "stdout",
     "output_type": "stream",
     "text": [
      "Training Dataset Shapes: (899, 100, 100), (899, 100, 100)\n",
      "Validation Dataset Shapes: (99, 100, 100), (99, 100, 100)\n"
     ]
    }
   ],
   "source": [
    "# We'll define a helper function to shift the frames, where\n",
    "# `x` is frames 0 to n - 1, and `y` is frames 1 to n.\n",
    "def create_shifted_frames(data):\n",
    "    \n",
    "    #this produces 3-d shape index, x, y\n",
    "    x = data[ 0 : data.shape[0] - 1, :, :]\n",
    "    y = data[ 1 : data.shape[0], :, :]\n",
    "    return x, y\n",
    "\n",
    "\n",
    "# Apply the processing function to the datasets.\n",
    "x_train, y_train = create_shifted_frames(train_dataset)\n",
    "x_val, y_val = create_shifted_frames(val_dataset)\n",
    "\n",
    "# Inspect the dataset.\n",
    "print(\"Training Dataset Shapes: \" + str(x_train.shape) + \", \" + str(y_train.shape))\n",
    "print(\"Validation Dataset Shapes: \" + str(x_val.shape) + \", \" + str(y_val.shape))"
   ]
  },
  {
   "cell_type": "code",
   "execution_count": 13,
   "metadata": {},
   "outputs": [],
   "source": [
    "def AddEmptyChannel(x):\n",
    "    x = np.expand_dims(x,axis=4)\n",
    "    return x\n",
    "\n",
    "def Batchify(arr, batchsize):\n",
    "    oldshape = arr.shape\n",
    "    remainder = arr.shape[0] % batchsize\n",
    "    if remainder > 0:\n",
    "        arr = arr[:-1 * remainder]\n",
    "    print(arr.shape)\n",
    "    numbatches = arr.shape[0] / batchsize\n",
    "    arr = arr.reshape(int(batchsize), int(numbatches), 100, 100)\n",
    "    arr = AddEmptyChannel(arr)\n",
    "    print(f\"{oldshape} -> {arr.shape}\")\n",
    "    return arr"
   ]
  },
  {
   "cell_type": "code",
   "execution_count": 14,
   "metadata": {},
   "outputs": [
    {
     "data": {
      "text/plain": [
       "0"
      ]
     },
     "execution_count": 14,
     "metadata": {},
     "output_type": "execute_result"
    }
   ],
   "source": [
    "7744 % 64"
   ]
  },
  {
   "cell_type": "code",
   "execution_count": 15,
   "metadata": {},
   "outputs": [
    {
     "name": "stdout",
     "output_type": "stream",
     "text": [
      "(896, 100, 100)\n",
      "(899, 100, 100) -> (64, 14, 100, 100, 1)\n",
      "(896, 100, 100)\n",
      "(899, 100, 100) -> (64, 14, 100, 100, 1)\n",
      "(64, 100, 100)\n",
      "(99, 100, 100) -> (64, 1, 100, 100, 1)\n",
      "(64, 100, 100)\n",
      "(99, 100, 100) -> (64, 1, 100, 100, 1)\n"
     ]
    }
   ],
   "source": [
    "batchsize=64\n",
    "x_train = Batchify(x_train, batchsize)\n",
    "y_train = Batchify(y_train, batchsize)\n",
    "x_val = Batchify(x_val, batchsize)\n",
    "y_val = Batchify(y_val, batchsize)"
   ]
  },
  {
   "cell_type": "code",
   "execution_count": 16,
   "metadata": {},
   "outputs": [
    {
     "ename": "TypeError",
     "evalue": "Invalid shape (100,) for image data",
     "output_type": "error",
     "traceback": [
      "\u001b[0;31m---------------------------------------------------------------------------\u001b[0m",
      "\u001b[0;31mTypeError\u001b[0m                                 Traceback (most recent call last)",
      "\u001b[0;32m<ipython-input-16-08d835d9ad5e>\u001b[0m in \u001b[0;36m<module>\u001b[0;34m\u001b[0m\n\u001b[1;32m      7\u001b[0m     \u001b[0mimg\u001b[0m \u001b[0;34m=\u001b[0m \u001b[0mtrain_dataset\u001b[0m\u001b[0;34m[\u001b[0m\u001b[0mdata_choice\u001b[0m\u001b[0;34m]\u001b[0m\u001b[0;34m[\u001b[0m\u001b[0midx\u001b[0m\u001b[0;34m]\u001b[0m\u001b[0;34m\u001b[0m\u001b[0;34m\u001b[0m\u001b[0m\n\u001b[1;32m      8\u001b[0m     \u001b[0;31m#print(img.shape)\u001b[0m\u001b[0;34m\u001b[0m\u001b[0;34m\u001b[0m\u001b[0;34m\u001b[0m\u001b[0m\n\u001b[0;32m----> 9\u001b[0;31m     \u001b[0max\u001b[0m\u001b[0;34m.\u001b[0m\u001b[0mimshow\u001b[0m\u001b[0;34m(\u001b[0m\u001b[0mimg\u001b[0m\u001b[0;34m,\u001b[0m \u001b[0mcmap\u001b[0m\u001b[0;34m=\u001b[0m\u001b[0;34m\"gray\"\u001b[0m\u001b[0;34m)\u001b[0m\u001b[0;34m\u001b[0m\u001b[0;34m\u001b[0m\u001b[0m\n\u001b[0m\u001b[1;32m     10\u001b[0m     \u001b[0max\u001b[0m\u001b[0;34m.\u001b[0m\u001b[0mset_title\u001b[0m\u001b[0;34m(\u001b[0m\u001b[0;34mf\"Frame {idx + 1}\"\u001b[0m\u001b[0;34m)\u001b[0m\u001b[0;34m\u001b[0m\u001b[0;34m\u001b[0m\u001b[0m\n\u001b[1;32m     11\u001b[0m     \u001b[0max\u001b[0m\u001b[0;34m.\u001b[0m\u001b[0maxis\u001b[0m\u001b[0;34m(\u001b[0m\u001b[0;34m\"off\"\u001b[0m\u001b[0;34m)\u001b[0m\u001b[0;34m\u001b[0m\u001b[0;34m\u001b[0m\u001b[0m\n",
      "\u001b[0;32m/usr/local/lib/python3.6/dist-packages/matplotlib/__init__.py\u001b[0m in \u001b[0;36minner\u001b[0;34m(ax, data, *args, **kwargs)\u001b[0m\n\u001b[1;32m   1445\u001b[0m     \u001b[0;32mdef\u001b[0m \u001b[0minner\u001b[0m\u001b[0;34m(\u001b[0m\u001b[0max\u001b[0m\u001b[0;34m,\u001b[0m \u001b[0;34m*\u001b[0m\u001b[0margs\u001b[0m\u001b[0;34m,\u001b[0m \u001b[0mdata\u001b[0m\u001b[0;34m=\u001b[0m\u001b[0;32mNone\u001b[0m\u001b[0;34m,\u001b[0m \u001b[0;34m**\u001b[0m\u001b[0mkwargs\u001b[0m\u001b[0;34m)\u001b[0m\u001b[0;34m:\u001b[0m\u001b[0;34m\u001b[0m\u001b[0;34m\u001b[0m\u001b[0m\n\u001b[1;32m   1446\u001b[0m         \u001b[0;32mif\u001b[0m \u001b[0mdata\u001b[0m \u001b[0;32mis\u001b[0m \u001b[0;32mNone\u001b[0m\u001b[0;34m:\u001b[0m\u001b[0;34m\u001b[0m\u001b[0;34m\u001b[0m\u001b[0m\n\u001b[0;32m-> 1447\u001b[0;31m             \u001b[0;32mreturn\u001b[0m \u001b[0mfunc\u001b[0m\u001b[0;34m(\u001b[0m\u001b[0max\u001b[0m\u001b[0;34m,\u001b[0m \u001b[0;34m*\u001b[0m\u001b[0mmap\u001b[0m\u001b[0;34m(\u001b[0m\u001b[0msanitize_sequence\u001b[0m\u001b[0;34m,\u001b[0m \u001b[0margs\u001b[0m\u001b[0;34m)\u001b[0m\u001b[0;34m,\u001b[0m \u001b[0;34m**\u001b[0m\u001b[0mkwargs\u001b[0m\u001b[0;34m)\u001b[0m\u001b[0;34m\u001b[0m\u001b[0;34m\u001b[0m\u001b[0m\n\u001b[0m\u001b[1;32m   1448\u001b[0m \u001b[0;34m\u001b[0m\u001b[0m\n\u001b[1;32m   1449\u001b[0m         \u001b[0mbound\u001b[0m \u001b[0;34m=\u001b[0m \u001b[0mnew_sig\u001b[0m\u001b[0;34m.\u001b[0m\u001b[0mbind\u001b[0m\u001b[0;34m(\u001b[0m\u001b[0max\u001b[0m\u001b[0;34m,\u001b[0m \u001b[0;34m*\u001b[0m\u001b[0margs\u001b[0m\u001b[0;34m,\u001b[0m \u001b[0;34m**\u001b[0m\u001b[0mkwargs\u001b[0m\u001b[0;34m)\u001b[0m\u001b[0;34m\u001b[0m\u001b[0;34m\u001b[0m\u001b[0m\n",
      "\u001b[0;32m/usr/local/lib/python3.6/dist-packages/matplotlib/axes/_axes.py\u001b[0m in \u001b[0;36mimshow\u001b[0;34m(self, X, cmap, norm, aspect, interpolation, alpha, vmin, vmax, origin, extent, filternorm, filterrad, resample, url, **kwargs)\u001b[0m\n\u001b[1;32m   5521\u001b[0m                               resample=resample, **kwargs)\n\u001b[1;32m   5522\u001b[0m \u001b[0;34m\u001b[0m\u001b[0m\n\u001b[0;32m-> 5523\u001b[0;31m         \u001b[0mim\u001b[0m\u001b[0;34m.\u001b[0m\u001b[0mset_data\u001b[0m\u001b[0;34m(\u001b[0m\u001b[0mX\u001b[0m\u001b[0;34m)\u001b[0m\u001b[0;34m\u001b[0m\u001b[0;34m\u001b[0m\u001b[0m\n\u001b[0m\u001b[1;32m   5524\u001b[0m         \u001b[0mim\u001b[0m\u001b[0;34m.\u001b[0m\u001b[0mset_alpha\u001b[0m\u001b[0;34m(\u001b[0m\u001b[0malpha\u001b[0m\u001b[0;34m)\u001b[0m\u001b[0;34m\u001b[0m\u001b[0;34m\u001b[0m\u001b[0m\n\u001b[1;32m   5525\u001b[0m         \u001b[0;32mif\u001b[0m \u001b[0mim\u001b[0m\u001b[0;34m.\u001b[0m\u001b[0mget_clip_path\u001b[0m\u001b[0;34m(\u001b[0m\u001b[0;34m)\u001b[0m \u001b[0;32mis\u001b[0m \u001b[0;32mNone\u001b[0m\u001b[0;34m:\u001b[0m\u001b[0;34m\u001b[0m\u001b[0;34m\u001b[0m\u001b[0m\n",
      "\u001b[0;32m/usr/local/lib/python3.6/dist-packages/matplotlib/image.py\u001b[0m in \u001b[0;36mset_data\u001b[0;34m(self, A)\u001b[0m\n\u001b[1;32m    710\u001b[0m                 or self._A.ndim == 3 and self._A.shape[-1] in [3, 4]):\n\u001b[1;32m    711\u001b[0m             raise TypeError(\"Invalid shape {} for image data\"\n\u001b[0;32m--> 712\u001b[0;31m                             .format(self._A.shape))\n\u001b[0m\u001b[1;32m    713\u001b[0m \u001b[0;34m\u001b[0m\u001b[0m\n\u001b[1;32m    714\u001b[0m         \u001b[0;32mif\u001b[0m \u001b[0mself\u001b[0m\u001b[0;34m.\u001b[0m\u001b[0m_A\u001b[0m\u001b[0;34m.\u001b[0m\u001b[0mndim\u001b[0m \u001b[0;34m==\u001b[0m \u001b[0;36m3\u001b[0m\u001b[0;34m:\u001b[0m\u001b[0;34m\u001b[0m\u001b[0;34m\u001b[0m\u001b[0m\n",
      "\u001b[0;31mTypeError\u001b[0m: Invalid shape (100,) for image data"
     ]
    },
    {
     "data": {
      "image/png": "[encoded data removed]",
      "text/plain": [
       "<Figure size 720x576 with 20 Axes>"
      ]
     },
     "metadata": {
      "needs_background": "light"
     },
     "output_type": "display_data"
    }
   ],
   "source": [
    "# Construct a figure on which we will visualize the images.\n",
    "fig, axes = plt.subplots(4, 5, figsize=(10, 8))\n",
    "\n",
    "# Plot each of the sequential images for one random data example.\n",
    "data_choice = np.random.choice(range(len(train_dataset)), size=1)[0]\n",
    "for idx, ax in enumerate(axes.flat):\n",
    "    img = train_dataset[data_choice][idx]\n",
    "    #print(img.shape)\n",
    "    ax.imshow(img, cmap=\"gray\")\n",
    "    ax.set_title(f\"Frame {idx + 1}\")\n",
    "    ax.axis(\"off\")\n",
    "\n",
    "# Print information and display the figure.\n",
    "print(f\"Displaying frames for example {data_choice}.\")\n",
    "plt.show()"
   ]
  },
  {
   "cell_type": "code",
   "execution_count": null,
   "metadata": {},
   "outputs": [],
   "source": [
    "#def AddEmptyChannel(x):\n",
    "#    x = np.expand_dims(x,axis=4)\n",
    "#    return x\n",
    "\n",
    "#X_train = reshapeData(x_train)\n",
    "#Y_train = reshapeData(y_train)\n",
    "#x_val = reshapeData(x_val)\n",
    "#y_val = reshapeData(y_val)\n",
    "\n",
    "\n",
    "#print(x_train.shape)\n",
    "##X_train = np.expand_dims(x_train,axis=0)\n",
    "#X_train = np.expand_dims(X_train,axis=4)\n",
    "#print(X_train.shape)\n",
    "\n",
    "#print(y_train.shape)\n",
    "#Y_train = np.expand_dims(y_train,axis=0)\n",
    "#Y_train = np.expand_dims(Y_train,axis=4)\n",
    "#print(Y_train.shape)\n",
    "\n",
    "#x_val = np.expand_dims(x_val, axis=0)\n",
    "#x_val = np.expand_dims(x_val, axis=4)\n",
    "\n",
    "#y_val = np.expand_dims(y_val, axis=0)\n",
    "#y_val = np.expand_dims(y_val, axis=4)"
   ]
  },
  {
   "cell_type": "code",
   "execution_count": 17,
   "metadata": {},
   "outputs": [
    {
     "name": "stdout",
     "output_type": "stream",
     "text": [
      "14 100 100 1\n"
     ]
    }
   ],
   "source": [
    "# Construct the input layer with no definite frame size.\n",
    "print(*x_train.shape[1:])\n",
    "inp = layers.Input(shape=(None, *x_train.shape[2:]))\n",
    "#inp = layers.Input(shape=(None, 100,100,1))\n",
    "\n",
    "# We will construct 3 `ConvLSTM2D` layers with batch normalization,\n",
    "# followed by a `Conv3D` layer for the spatiotemporal outputs.\n",
    "x = layers.ConvLSTM2D(\n",
    "    filters=32,\n",
    "    kernel_size=(5, 5),\n",
    "    padding=\"same\",\n",
    "    return_sequences=True,\n",
    "    activation=\"relu\",\n",
    "    name=\"ConvLSTM2D_1\",\n",
    "    data_format=\"channels_last\"\n",
    ")(inp)\n",
    "\n",
    "if 1:\n",
    "    x = layers.BatchNormalization()(x)\n",
    "    x = layers.ConvLSTM2D(\n",
    "        filters=32,\n",
    "        kernel_size=(3, 3),\n",
    "        padding=\"same\",\n",
    "        return_sequences=True,\n",
    "        activation=\"relu\",\n",
    "        name=\"ConvLSTM2D_2\",\n",
    "        data_format=\"channels_last\"\n",
    "    )(x)\n",
    "\n",
    "x = layers.BatchNormalization()(x)\n",
    "\n",
    "if 0:\n",
    "    x = layers.ConvLSTM2D(\n",
    "        filters=64,\n",
    "        kernel_size=(1, 1),\n",
    "        padding=\"same\",\n",
    "        return_sequences=True,\n",
    "        activation=\"relu\",\n",
    "        name=\"ConvLSTM2D_3\",\n",
    "        data_format=\"channels_last\"\n",
    "    )(x)\n",
    "x = layers.Conv3D(\n",
    "    filters=1, kernel_size=(3, 3, 3), activation=\"sigmoid\", padding=\"same\",\n",
    "    name=\"ConvLSTM3D\",\n",
    "    data_format=\"channels_last\"\n",
    ")(x)\n",
    "\n",
    "# Next, we will build the complete model and compile it.\n",
    "model = keras.models.Model(inp, x)\n",
    "model.compile(\n",
    "    #loss=keras.losses.mse, optimizer=keras.optimizers.Adam(1e-6),\n",
    "    #loss=keras.losses.mse, optimizer=keras.optimizers.RMSprop(1e-6),\n",
    "    #loss=keras.losses.mse, optimizer=keras.optimizers.SGD(1e-6),\n",
    "    loss=keras.losses.mse, optimizer=keras.optimizers.SGD(),\n",
    ")"
   ]
  },
  {
   "cell_type": "code",
   "execution_count": null,
   "metadata": {},
   "outputs": [],
   "source": []
  },
  {
   "cell_type": "code",
   "execution_count": 21,
   "metadata": {
    "scrolled": false
   },
   "outputs": [
    {
     "name": "stdout",
     "output_type": "stream",
     "text": [
      "Epoch 1/200\n",
      "1/1 - 81s - loss: 0.0414 - val_loss: 0.1192\n",
      "Epoch 2/200\n",
      "1/1 - 84s - loss: 0.0413 - val_loss: 0.1187\n",
      "Epoch 3/200\n",
      "1/1 - 84s - loss: 0.0412 - val_loss: 0.1183\n",
      "Epoch 4/200\n",
      "1/1 - 84s - loss: 0.0412 - val_loss: 0.1179\n",
      "Epoch 5/200\n",
      "1/1 - 83s - loss: 0.0410 - val_loss: 0.1174\n",
      "Epoch 6/200\n",
      "1/1 - 83s - loss: 0.0409 - val_loss: 0.1170\n",
      "Epoch 7/200\n",
      "1/1 - 83s - loss: 0.0408 - val_loss: 0.1165\n",
      "Epoch 8/200\n",
      "1/1 - 83s - loss: 0.0407 - val_loss: 0.1161\n",
      "Epoch 9/200\n",
      "1/1 - 83s - loss: 0.0406 - val_loss: 0.1157\n",
      "Epoch 10/200\n",
      "1/1 - 83s - loss: 0.0403 - val_loss: 0.1152\n",
      "Epoch 11/200\n",
      "1/1 - 83s - loss: 0.0402 - val_loss: 0.1148\n",
      "Epoch 12/200\n",
      "1/1 - 83s - loss: 0.0401 - val_loss: 0.1144\n",
      "Epoch 13/200\n",
      "1/1 - 83s - loss: 0.0400 - val_loss: 0.1140\n",
      "Epoch 14/200\n",
      "1/1 - 83s - loss: 0.0399 - val_loss: 0.1135\n",
      "Epoch 15/200\n",
      "1/1 - 83s - loss: 0.0398 - val_loss: 0.1131\n",
      "Epoch 16/200\n",
      "1/1 - 83s - loss: 0.0397 - val_loss: 0.1127\n",
      "Epoch 17/200\n",
      "1/1 - 83s - loss: 0.0396 - val_loss: 0.1123\n",
      "Epoch 18/200\n",
      "1/1 - 83s - loss: 0.0394 - val_loss: 0.1119\n",
      "Epoch 19/200\n",
      "1/1 - 82s - loss: 0.0393 - val_loss: 0.1115\n",
      "Epoch 20/200\n",
      "1/1 - 83s - loss: 0.0392 - val_loss: 0.1111\n",
      "Epoch 21/200\n",
      "1/1 - 83s - loss: 0.0391 - val_loss: 0.1106\n",
      "Epoch 22/200\n",
      "1/1 - 83s - loss: 0.0390 - val_loss: 0.1102\n",
      "Epoch 23/200\n",
      "1/1 - 83s - loss: 0.0389 - val_loss: 0.1098\n",
      "Epoch 24/200\n",
      "1/1 - 83s - loss: 0.0388 - val_loss: 0.1094\n",
      "Epoch 25/200\n",
      "1/1 - 83s - loss: 0.0387 - val_loss: 0.1090\n",
      "Epoch 26/200\n",
      "1/1 - 83s - loss: 0.0386 - val_loss: 0.1086\n",
      "Epoch 27/200\n",
      "1/1 - 83s - loss: 0.0385 - val_loss: 0.1082\n",
      "Epoch 28/200\n",
      "1/1 - 83s - loss: 0.0384 - val_loss: 0.1078\n",
      "Epoch 29/200\n",
      "1/1 - 83s - loss: 0.0383 - val_loss: 0.1074\n",
      "Epoch 30/200\n",
      "1/1 - 83s - loss: 0.0382 - val_loss: 0.1070\n",
      "Epoch 31/200\n",
      "1/1 - 83s - loss: 0.0381 - val_loss: 0.1067\n",
      "Epoch 32/200\n",
      "1/1 - 83s - loss: 0.0380 - val_loss: 0.1063\n",
      "Epoch 33/200\n",
      "1/1 - 83s - loss: 0.0379 - val_loss: 0.1059\n",
      "Epoch 34/200\n",
      "1/1 - 83s - loss: 0.0378 - val_loss: 0.1055\n",
      "Epoch 35/200\n",
      "1/1 - 83s - loss: 0.0377 - val_loss: 0.1051\n",
      "Epoch 36/200\n",
      "1/1 - 83s - loss: 0.0376 - val_loss: 0.1047\n",
      "Epoch 37/200\n",
      "1/1 - 83s - loss: 0.0375 - val_loss: 0.1044\n",
      "Epoch 38/200\n",
      "1/1 - 83s - loss: 0.0374 - val_loss: 0.1040\n",
      "Epoch 39/200\n",
      "1/1 - 83s - loss: 0.0373 - val_loss: 0.1036\n",
      "Epoch 40/200\n",
      "1/1 - 83s - loss: 0.0372 - val_loss: 0.1032\n",
      "Epoch 41/200\n",
      "1/1 - 83s - loss: 0.0371 - val_loss: 0.1029\n",
      "Epoch 42/200\n",
      "1/1 - 83s - loss: 0.0370 - val_loss: 0.1025\n",
      "Epoch 43/200\n",
      "1/1 - 83s - loss: 0.0369 - val_loss: 0.1021\n",
      "Epoch 44/200\n",
      "1/1 - 83s - loss: 0.0368 - val_loss: 0.1018\n",
      "Epoch 45/200\n",
      "1/1 - 83s - loss: 0.0367 - val_loss: 0.1014\n",
      "Epoch 46/200\n",
      "1/1 - 83s - loss: 0.0365 - val_loss: 0.1010\n",
      "Epoch 47/200\n",
      "1/1 - 83s - loss: 0.0365 - val_loss: 0.1007\n",
      "Epoch 48/200\n",
      "1/1 - 83s - loss: 0.0363 - val_loss: 0.1003\n",
      "Epoch 49/200\n",
      "1/1 - 83s - loss: 0.0362 - val_loss: 0.1000\n",
      "Epoch 50/200\n",
      "1/1 - 83s - loss: 0.0361 - val_loss: 0.0996\n",
      "Epoch 51/200\n",
      "1/1 - 83s - loss: 0.0361 - val_loss: 0.0992\n",
      "Epoch 52/200\n",
      "1/1 - 83s - loss: 0.0360 - val_loss: 0.0989\n",
      "Epoch 53/200\n",
      "1/1 - 83s - loss: 0.0358 - val_loss: 0.0985\n",
      "Epoch 54/200\n",
      "1/1 - 83s - loss: 0.0357 - val_loss: 0.0982\n",
      "Epoch 55/200\n",
      "1/1 - 83s - loss: 0.0356 - val_loss: 0.0978\n",
      "Epoch 56/200\n",
      "1/1 - 83s - loss: 0.0354 - val_loss: 0.0975\n",
      "Epoch 57/200\n",
      "1/1 - 83s - loss: 0.0353 - val_loss: 0.0972\n",
      "Epoch 58/200\n",
      "1/1 - 83s - loss: 0.0352 - val_loss: 0.0968\n",
      "Epoch 59/200\n",
      "1/1 - 83s - loss: 0.0351 - val_loss: 0.0965\n",
      "Epoch 60/200\n",
      "1/1 - 83s - loss: 0.0350 - val_loss: 0.0962\n",
      "Epoch 61/200\n",
      "1/1 - 83s - loss: 0.0349 - val_loss: 0.0958\n",
      "Epoch 62/200\n",
      "1/1 - 83s - loss: 0.0348 - val_loss: 0.0955\n",
      "Epoch 63/200\n",
      "1/1 - 83s - loss: 0.0348 - val_loss: 0.0952\n",
      "Epoch 64/200\n",
      "1/1 - 83s - loss: 0.0347 - val_loss: 0.0948\n",
      "Epoch 65/200\n",
      "1/1 - 83s - loss: 0.0346 - val_loss: 0.0945\n",
      "Epoch 66/200\n",
      "1/1 - 83s - loss: 0.0345 - val_loss: 0.0942\n",
      "Epoch 67/200\n",
      "1/1 - 83s - loss: 0.0344 - val_loss: 0.0939\n",
      "Epoch 68/200\n",
      "1/1 - 83s - loss: 0.0343 - val_loss: 0.0936\n",
      "Epoch 69/200\n",
      "1/1 - 83s - loss: 0.0342 - val_loss: 0.0932\n",
      "Epoch 70/200\n",
      "1/1 - 83s - loss: 0.0342 - val_loss: 0.0929\n",
      "Epoch 71/200\n",
      "1/1 - 83s - loss: 0.0341 - val_loss: 0.0926\n",
      "Epoch 72/200\n",
      "1/1 - 83s - loss: 0.0340 - val_loss: 0.0923\n",
      "Epoch 73/200\n",
      "1/1 - 83s - loss: 0.0339 - val_loss: 0.0920\n",
      "Epoch 74/200\n",
      "1/1 - 83s - loss: 0.0338 - val_loss: 0.0917\n",
      "Epoch 75/200\n",
      "1/1 - 83s - loss: 0.0337 - val_loss: 0.0914\n",
      "Epoch 76/200\n",
      "1/1 - 83s - loss: 0.0337 - val_loss: 0.0911\n",
      "Epoch 77/200\n",
      "1/1 - 83s - loss: 0.0335 - val_loss: 0.0908\n",
      "Epoch 78/200\n",
      "1/1 - 83s - loss: 0.0335 - val_loss: 0.0905\n",
      "Epoch 79/200\n",
      "1/1 - 83s - loss: 0.0334 - val_loss: 0.0902\n",
      "Epoch 80/200\n",
      "1/1 - 83s - loss: 0.0333 - val_loss: 0.0899\n",
      "Epoch 81/200\n",
      "1/1 - 83s - loss: 0.0332 - val_loss: 0.0896\n",
      "Epoch 82/200\n",
      "1/1 - 83s - loss: 0.0331 - val_loss: 0.0893\n",
      "Epoch 83/200\n",
      "1/1 - 83s - loss: 0.0331 - val_loss: 0.0890\n",
      "Epoch 84/200\n",
      "1/1 - 83s - loss: 0.0330 - val_loss: 0.0887\n",
      "Epoch 85/200\n",
      "1/1 - 83s - loss: 0.0328 - val_loss: 0.0884\n",
      "Epoch 86/200\n",
      "1/1 - 83s - loss: 0.0328 - val_loss: 0.0881\n",
      "Epoch 87/200\n",
      "1/1 - 83s - loss: 0.0327 - val_loss: 0.0878\n",
      "Epoch 88/200\n",
      "1/1 - 83s - loss: 0.0326 - val_loss: 0.0876\n",
      "Epoch 89/200\n",
      "1/1 - 83s - loss: 0.0325 - val_loss: 0.0873\n",
      "Epoch 90/200\n",
      "1/1 - 83s - loss: 0.0324 - val_loss: 0.0870\n",
      "Epoch 91/200\n",
      "1/1 - 84s - loss: 0.0324 - val_loss: 0.0867\n",
      "Epoch 92/200\n",
      "1/1 - 83s - loss: 0.0323 - val_loss: 0.0864\n",
      "Epoch 93/200\n",
      "1/1 - 83s - loss: 0.0322 - val_loss: 0.0862\n",
      "Epoch 94/200\n",
      "1/1 - 83s - loss: 0.0321 - val_loss: 0.0859\n",
      "Epoch 95/200\n",
      "1/1 - 83s - loss: 0.0321 - val_loss: 0.0856\n",
      "Epoch 96/200\n",
      "1/1 - 83s - loss: 0.0319 - val_loss: 0.0853\n",
      "Epoch 97/200\n",
      "1/1 - 83s - loss: 0.0319 - val_loss: 0.0851\n",
      "Epoch 98/200\n",
      "1/1 - 83s - loss: 0.0318 - val_loss: 0.0848\n",
      "Epoch 99/200\n",
      "1/1 - 83s - loss: 0.0317 - val_loss: 0.0845\n",
      "Epoch 100/200\n",
      "1/1 - 83s - loss: 0.0317 - val_loss: 0.0843\n",
      "Epoch 101/200\n",
      "1/1 - 83s - loss: 0.0316 - val_loss: 0.0840\n",
      "Epoch 102/200\n",
      "1/1 - 84s - loss: 0.0315 - val_loss: 0.0837\n",
      "Epoch 103/200\n",
      "1/1 - 83s - loss: 0.0315 - val_loss: 0.0835\n",
      "Epoch 104/200\n",
      "1/1 - 83s - loss: 0.0314 - val_loss: 0.0832\n",
      "Epoch 105/200\n",
      "1/1 - 83s - loss: 0.0314 - val_loss: 0.0829\n",
      "Epoch 106/200\n",
      "1/1 - 83s - loss: 0.0313 - val_loss: 0.0827\n",
      "Epoch 107/200\n",
      "1/1 - 83s - loss: 0.0312 - val_loss: 0.0824\n",
      "Epoch 108/200\n",
      "1/1 - 83s - loss: 0.0312 - val_loss: 0.0822\n",
      "Epoch 109/200\n",
      "1/1 - 83s - loss: 0.0311 - val_loss: 0.0819\n",
      "Epoch 110/200\n",
      "1/1 - 83s - loss: 0.0310 - val_loss: 0.0817\n",
      "Epoch 111/200\n",
      "1/1 - 83s - loss: 0.0309 - val_loss: 0.0814\n",
      "Epoch 112/200\n",
      "1/1 - 83s - loss: 0.0308 - val_loss: 0.0811\n",
      "Epoch 113/200\n",
      "1/1 - 83s - loss: 0.0307 - val_loss: 0.0809\n",
      "Epoch 114/200\n",
      "1/1 - 83s - loss: 0.0306 - val_loss: 0.0807\n",
      "Epoch 115/200\n",
      "1/1 - 83s - loss: 0.0305 - val_loss: 0.0804\n",
      "Epoch 116/200\n",
      "1/1 - 83s - loss: 0.0304 - val_loss: 0.0802\n",
      "Epoch 117/200\n",
      "1/1 - 83s - loss: 0.0304 - val_loss: 0.0799\n",
      "Epoch 118/200\n",
      "1/1 - 83s - loss: 0.0304 - val_loss: 0.0797\n",
      "Epoch 119/200\n",
      "1/1 - 83s - loss: 0.0304 - val_loss: 0.0794\n",
      "Epoch 120/200\n",
      "1/1 - 83s - loss: 0.0303 - val_loss: 0.0792\n",
      "Epoch 121/200\n",
      "1/1 - 83s - loss: 0.0302 - val_loss: 0.0790\n",
      "Epoch 122/200\n",
      "1/1 - 83s - loss: 0.0301 - val_loss: 0.0787\n",
      "Epoch 123/200\n",
      "1/1 - 83s - loss: 0.0300 - val_loss: 0.0785\n",
      "Epoch 124/200\n",
      "1/1 - 83s - loss: 0.0300 - val_loss: 0.0783\n",
      "Epoch 125/200\n",
      "1/1 - 83s - loss: 0.0299 - val_loss: 0.0780\n",
      "Epoch 126/200\n",
      "1/1 - 83s - loss: 0.0299 - val_loss: 0.0778\n",
      "Epoch 127/200\n",
      "1/1 - 83s - loss: 0.0298 - val_loss: 0.0776\n",
      "Epoch 128/200\n",
      "1/1 - 83s - loss: 0.0297 - val_loss: 0.0773\n",
      "Epoch 129/200\n",
      "1/1 - 83s - loss: 0.0297 - val_loss: 0.0771\n",
      "Epoch 130/200\n",
      "1/1 - 83s - loss: 0.0296 - val_loss: 0.0769\n",
      "Epoch 131/200\n",
      "1/1 - 83s - loss: 0.0295 - val_loss: 0.0766\n",
      "Epoch 132/200\n",
      "1/1 - 83s - loss: 0.0294 - val_loss: 0.0764\n",
      "Epoch 133/200\n",
      "1/1 - 83s - loss: 0.0294 - val_loss: 0.0762\n",
      "Epoch 134/200\n",
      "1/1 - 83s - loss: 0.0293 - val_loss: 0.0760\n",
      "Epoch 135/200\n",
      "1/1 - 83s - loss: 0.0293 - val_loss: 0.0758\n",
      "Epoch 136/200\n",
      "1/1 - 83s - loss: 0.0291 - val_loss: 0.0755\n",
      "Epoch 137/200\n",
      "1/1 - 83s - loss: 0.0291 - val_loss: 0.0753\n",
      "Epoch 138/200\n",
      "1/1 - 83s - loss: 0.0290 - val_loss: 0.0751\n",
      "Epoch 139/200\n",
      "1/1 - 83s - loss: 0.0290 - val_loss: 0.0749\n",
      "Epoch 140/200\n",
      "1/1 - 83s - loss: 0.0289 - val_loss: 0.0747\n",
      "Epoch 141/200\n",
      "1/1 - 83s - loss: 0.0288 - val_loss: 0.0745\n",
      "Epoch 142/200\n",
      "1/1 - 83s - loss: 0.0287 - val_loss: 0.0742\n",
      "Epoch 143/200\n",
      "1/1 - 83s - loss: 0.0286 - val_loss: 0.0740\n",
      "Epoch 144/200\n"
     ]
    },
    {
     "name": "stdout",
     "output_type": "stream",
     "text": [
      "1/1 - 83s - loss: 0.0286 - val_loss: 0.0738\n",
      "Epoch 145/200\n",
      "1/1 - 83s - loss: 0.0286 - val_loss: 0.0736\n",
      "Epoch 146/200\n",
      "1/1 - 83s - loss: 0.0285 - val_loss: 0.0734\n",
      "Epoch 147/200\n",
      "1/1 - 83s - loss: 0.0285 - val_loss: 0.0732\n",
      "Epoch 148/200\n",
      "1/1 - 83s - loss: 0.0284 - val_loss: 0.0730\n",
      "Epoch 149/200\n",
      "1/1 - 83s - loss: 0.0283 - val_loss: 0.0728\n",
      "Epoch 150/200\n",
      "1/1 - 83s - loss: 0.0282 - val_loss: 0.0726\n",
      "Epoch 151/200\n",
      "1/1 - 83s - loss: 0.0282 - val_loss: 0.0724\n",
      "Epoch 152/200\n",
      "1/1 - 83s - loss: 0.0281 - val_loss: 0.0722\n",
      "Epoch 153/200\n",
      "1/1 - 83s - loss: 0.0281 - val_loss: 0.0720\n",
      "Epoch 154/200\n",
      "1/1 - 83s - loss: 0.0280 - val_loss: 0.0717\n",
      "Epoch 155/200\n",
      "1/1 - 83s - loss: 0.0280 - val_loss: 0.0715\n",
      "Epoch 156/200\n",
      "1/1 - 83s - loss: 0.0279 - val_loss: 0.0713\n",
      "Epoch 157/200\n",
      "1/1 - 83s - loss: 0.0278 - val_loss: 0.0711\n",
      "Epoch 158/200\n",
      "1/1 - 83s - loss: 0.0278 - val_loss: 0.0709\n",
      "Epoch 159/200\n",
      "1/1 - 83s - loss: 0.0277 - val_loss: 0.0708\n",
      "Epoch 160/200\n",
      "1/1 - 83s - loss: 0.0276 - val_loss: 0.0706\n",
      "Epoch 161/200\n",
      "1/1 - 83s - loss: 0.0275 - val_loss: 0.0704\n",
      "Epoch 162/200\n",
      "1/1 - 83s - loss: 0.0275 - val_loss: 0.0702\n",
      "Epoch 163/200\n",
      "1/1 - 83s - loss: 0.0275 - val_loss: 0.0700\n",
      "Epoch 164/200\n",
      "1/1 - 83s - loss: 0.0275 - val_loss: 0.0698\n",
      "Epoch 165/200\n",
      "1/1 - 83s - loss: 0.0273 - val_loss: 0.0696\n",
      "Epoch 166/200\n",
      "1/1 - 83s - loss: 0.0273 - val_loss: 0.0694\n",
      "Epoch 167/200\n",
      "1/1 - 83s - loss: 0.0272 - val_loss: 0.0692\n",
      "Epoch 168/200\n",
      "1/1 - 83s - loss: 0.0272 - val_loss: 0.0690\n",
      "Epoch 169/200\n",
      "1/1 - 83s - loss: 0.0272 - val_loss: 0.0688\n",
      "Epoch 170/200\n",
      "1/1 - 83s - loss: 0.0271 - val_loss: 0.0686\n",
      "Epoch 171/200\n",
      "1/1 - 83s - loss: 0.0270 - val_loss: 0.0685\n",
      "Epoch 172/200\n",
      "1/1 - 83s - loss: 0.0270 - val_loss: 0.0683\n",
      "Epoch 173/200\n",
      "1/1 - 83s - loss: 0.0269 - val_loss: 0.0681\n",
      "Epoch 174/200\n",
      "1/1 - 84s - loss: 0.0268 - val_loss: 0.0679\n",
      "Epoch 175/200\n",
      "1/1 - 83s - loss: 0.0268 - val_loss: 0.0677\n",
      "Epoch 176/200\n",
      "1/1 - 83s - loss: 0.0267 - val_loss: 0.0676\n",
      "Epoch 177/200\n",
      "1/1 - 83s - loss: 0.0266 - val_loss: 0.0674\n",
      "Epoch 178/200\n",
      "1/1 - 83s - loss: 0.0266 - val_loss: 0.0672\n",
      "Epoch 179/200\n",
      "1/1 - 83s - loss: 0.0265 - val_loss: 0.0670\n",
      "Epoch 180/200\n",
      "1/1 - 83s - loss: 0.0265 - val_loss: 0.0668\n",
      "Epoch 181/200\n",
      "1/1 - 83s - loss: 0.0264 - val_loss: 0.0667\n",
      "Epoch 182/200\n",
      "1/1 - 83s - loss: 0.0264 - val_loss: 0.0665\n",
      "Epoch 183/200\n",
      "1/1 - 83s - loss: 0.0263 - val_loss: 0.0663\n",
      "Epoch 184/200\n",
      "1/1 - 83s - loss: 0.0263 - val_loss: 0.0662\n",
      "Epoch 185/200\n",
      "1/1 - 83s - loss: 0.0262 - val_loss: 0.0660\n",
      "Epoch 186/200\n",
      "1/1 - 83s - loss: 0.0262 - val_loss: 0.0658\n",
      "Epoch 187/200\n",
      "1/1 - 83s - loss: 0.0261 - val_loss: 0.0657\n",
      "Epoch 188/200\n",
      "1/1 - 83s - loss: 0.0261 - val_loss: 0.0655\n",
      "Epoch 189/200\n",
      "1/1 - 83s - loss: 0.0261 - val_loss: 0.0653\n",
      "Epoch 190/200\n",
      "1/1 - 83s - loss: 0.0260 - val_loss: 0.0652\n",
      "Epoch 191/200\n",
      "1/1 - 83s - loss: 0.0259 - val_loss: 0.0650\n",
      "Epoch 192/200\n",
      "1/1 - 83s - loss: 0.0259 - val_loss: 0.0648\n",
      "Epoch 193/200\n",
      "1/1 - 83s - loss: 0.0258 - val_loss: 0.0647\n",
      "Epoch 194/200\n",
      "1/1 - 83s - loss: 0.0258 - val_loss: 0.0645\n",
      "Epoch 195/200\n",
      "1/1 - 83s - loss: 0.0258 - val_loss: 0.0643\n",
      "Epoch 196/200\n",
      "1/1 - 83s - loss: 0.0257 - val_loss: 0.0642\n",
      "Epoch 197/200\n",
      "1/1 - 83s - loss: 0.0257 - val_loss: 0.0640\n",
      "Epoch 198/200\n",
      "1/1 - 83s - loss: 0.0256 - val_loss: 0.0639\n",
      "Epoch 199/200\n",
      "1/1 - 83s - loss: 0.0256 - val_loss: 0.0637\n",
      "Epoch 200/200\n",
      "1/1 - 83s - loss: 0.0256 - val_loss: 0.0636\n"
     ]
    }
   ],
   "source": [
    "#### Define some callbacks to improve training.\n",
    "early_stopping = keras.callbacks.EarlyStopping(monitor=\"val_loss\", patience=8, restore_best_weights=True)\n",
    "reduce_lr = keras.callbacks.ReduceLROnPlateau(monitor=\"val_loss\", patience=3)\n",
    "\n",
    "# Define modifiable training hyperparameters.\n",
    "epochs = 200\n",
    "batch_size = batchsize\n",
    "\n",
    "# Fit the model to the training data.\n",
    "# round 1 = history\n",
    "# round 2 = history2\n",
    "history2 = model.fit(\n",
    "    x_train,\n",
    "    y_train,\n",
    "    batch_size=batch_size,\n",
    "    epochs=epochs,\n",
    "    validation_data=(x_val, y_val),\n",
    "    callbacks=[early_stopping, reduce_lr],\n",
    "    verbose=2\n",
    ")\n"
   ]
  },
  {
   "cell_type": "code",
   "execution_count": 22,
   "metadata": {},
   "outputs": [
    {
     "name": "stdout",
     "output_type": "stream",
     "text": [
      "INFO:tensorflow:Assets written to: ../models/cnnlstm4/assets\n"
     ]
    }
   ],
   "source": [
    "model.save('../models/cnnlstm4')"
   ]
  },
  {
   "cell_type": "code",
   "execution_count": 20,
   "metadata": {},
   "outputs": [
    {
     "data": {
      "text/plain": [
       "<matplotlib.legend.Legend at 0x7fa23a6fa978>"
      ]
     },
     "execution_count": 20,
     "metadata": {},
     "output_type": "execute_result"
    },
    {
     "data": {
      "image/png": "[encoded data removed]",
      "text/plain": [
       "<Figure size 360x360 with 1 Axes>"
      ]
     },
     "metadata": {
      "needs_background": "light"
     },
     "output_type": "display_data"
    }
   ],
   "source": [
    "fig, ax = plt.subplots(1,1,figsize=(5,5))\n",
    "\n",
    "ax.plot(history.history['loss'], label='loss')\n",
    "ax.plot(history.history['val_loss'], label='val_los')\n",
    "ax.legend()"
   ]
  },
  {
   "cell_type": "code",
   "execution_count": 24,
   "metadata": {},
   "outputs": [
    {
     "data": {
      "text/plain": [
       "<matplotlib.legend.Legend at 0x7fa2421165c0>"
      ]
     },
     "execution_count": 24,
     "metadata": {},
     "output_type": "execute_result"
    },
    {
     "data": {
      "image/png": "[encoded data removed]",
      "text/plain": [
       "<Figure size 360x360 with 1 Axes>"
      ]
     },
     "metadata": {
      "needs_background": "light"
     },
     "output_type": "display_data"
    }
   ],
   "source": [
    "fig, ax = plt.subplots(1,1,figsize=(5,5))\n",
    "\n",
    "ax.plot(history2.history['loss'], label='loss')\n",
    "ax.plot(history2.history['val_loss'], label='val_los')\n",
    "ax.legend()"
   ]
  },
  {
   "cell_type": "code",
   "execution_count": 28,
   "metadata": {},
   "outputs": [
    {
     "data": {
      "text/plain": [
       "<matplotlib.legend.Legend at 0x7fa23ae8ae80>"
      ]
     },
     "execution_count": 28,
     "metadata": {},
     "output_type": "execute_result"
    },
    {
     "data": {
      "image/png": "[encoded data removed]",
      "text/plain": [
       "<Figure size 360x360 with 1 Axes>"
      ]
     },
     "metadata": {
      "needs_background": "light"
     },
     "output_type": "display_data"
    }
   ],
   "source": [
    "fig, ax = plt.subplots(1,1,figsize=(5,5))\n",
    "\n",
    "ax.plot(joint_loss, label='loss')\n",
    "ax.plot(joint_valloss, label='val_los')\n",
    "ax.legend()"
   ]
  },
  {
   "cell_type": "code",
   "execution_count": 26,
   "metadata": {},
   "outputs": [],
   "source": [
    "joint_loss = history.history['loss'] + history2.history['loss']\n",
    "joint_valloss = history.history['val_loss'] + history2.history['val_loss']"
   ]
  },
  {
   "cell_type": "code",
   "execution_count": 39,
   "metadata": {},
   "outputs": [
    {
     "name": "stdout",
     "output_type": "stream",
     "text": [
      "WARNING:tensorflow:Model was constructed with shape (None, None, 100, 100, 1) for input KerasTensor(type_spec=TensorSpec(shape=(None, None, 100, 100, 1), dtype=tf.float32, name='input_9'), name='input_9', description=\"created by layer 'input_9'\"), but it was called on an input with incompatible shape (None, 10, 100).\n"
     ]
    },
    {
     "ename": "ValueError",
     "evalue": "in user code:\n\n    /usr/local/lib/python3.6/dist-packages/tensorflow/python/keras/engine/training.py:1569 predict_function  *\n        return step_function(self, iterator)\n    /usr/local/lib/python3.6/dist-packages/tensorflow/python/keras/engine/training.py:1559 step_function  **\n        outputs = model.distribute_strategy.run(run_step, args=(data,))\n    /usr/local/lib/python3.6/dist-packages/tensorflow/python/distribute/distribute_lib.py:1285 run\n        return self._extended.call_for_each_replica(fn, args=args, kwargs=kwargs)\n    /usr/local/lib/python3.6/dist-packages/tensorflow/python/distribute/distribute_lib.py:2833 call_for_each_replica\n        return self._call_for_each_replica(fn, args, kwargs)\n    /usr/local/lib/python3.6/dist-packages/tensorflow/python/distribute/distribute_lib.py:3608 _call_for_each_replica\n        return fn(*args, **kwargs)\n    /usr/local/lib/python3.6/dist-packages/tensorflow/python/keras/engine/training.py:1552 run_step  **\n        outputs = model.predict_step(data)\n    /usr/local/lib/python3.6/dist-packages/tensorflow/python/keras/engine/training.py:1525 predict_step\n        return self(x, training=False)\n    /usr/local/lib/python3.6/dist-packages/tensorflow/python/keras/engine/base_layer.py:1030 __call__\n        outputs = call_fn(inputs, *args, **kwargs)\n    /usr/local/lib/python3.6/dist-packages/tensorflow/python/keras/engine/functional.py:421 call\n        inputs, training=training, mask=mask)\n    /usr/local/lib/python3.6/dist-packages/tensorflow/python/keras/engine/functional.py:556 _run_internal_graph\n        outputs = node.layer(*args, **kwargs)\n    /usr/local/lib/python3.6/dist-packages/tensorflow/python/keras/layers/recurrent.py:668 __call__\n        return super(RNN, self).__call__(inputs, **kwargs)\n    /usr/local/lib/python3.6/dist-packages/tensorflow/python/keras/engine/base_layer.py:1013 __call__\n        input_spec.assert_input_compatibility(self.input_spec, inputs, self.name)\n    /usr/local/lib/python3.6/dist-packages/tensorflow/python/keras/engine/input_spec.py:219 assert_input_compatibility\n        str(tuple(shape)))\n\n    ValueError: Input 0 of layer ConvLSTM2D_1 is incompatible with the layer: expected ndim=5, found ndim=3. Full shape received: (None, 10, 100)\n",
     "output_type": "error",
     "traceback": [
      "\u001b[0;31m---------------------------------------------------------------------------\u001b[0m",
      "\u001b[0;31mValueError\u001b[0m                                Traceback (most recent call last)",
      "\u001b[0;32m<ipython-input-39-6c2fdd5c3fd2>\u001b[0m in \u001b[0;36m<module>\u001b[0;34m\u001b[0m\n\u001b[1;32m      8\u001b[0m \u001b[0;32mfor\u001b[0m \u001b[0m_\u001b[0m \u001b[0;32min\u001b[0m \u001b[0mrange\u001b[0m\u001b[0;34m(\u001b[0m\u001b[0;36m10\u001b[0m\u001b[0;34m)\u001b[0m\u001b[0;34m:\u001b[0m\u001b[0;34m\u001b[0m\u001b[0;34m\u001b[0m\u001b[0m\n\u001b[1;32m      9\u001b[0m     \u001b[0;31m# Extract the model's prediction and post-process it.\u001b[0m\u001b[0;34m\u001b[0m\u001b[0;34m\u001b[0m\u001b[0;34m\u001b[0m\u001b[0m\n\u001b[0;32m---> 10\u001b[0;31m     \u001b[0mnew_prediction\u001b[0m \u001b[0;34m=\u001b[0m \u001b[0mmodel\u001b[0m\u001b[0;34m.\u001b[0m\u001b[0mpredict\u001b[0m\u001b[0;34m(\u001b[0m\u001b[0mnp\u001b[0m\u001b[0;34m.\u001b[0m\u001b[0mexpand_dims\u001b[0m\u001b[0;34m(\u001b[0m\u001b[0mframes\u001b[0m\u001b[0;34m,\u001b[0m \u001b[0maxis\u001b[0m\u001b[0;34m=\u001b[0m\u001b[0;36m0\u001b[0m\u001b[0;34m)\u001b[0m\u001b[0;34m)\u001b[0m\u001b[0;34m\u001b[0m\u001b[0;34m\u001b[0m\u001b[0m\n\u001b[0m\u001b[1;32m     11\u001b[0m     \u001b[0mnew_prediction\u001b[0m \u001b[0;34m=\u001b[0m \u001b[0mnp\u001b[0m\u001b[0;34m.\u001b[0m\u001b[0msqueeze\u001b[0m\u001b[0;34m(\u001b[0m\u001b[0mnew_prediction\u001b[0m\u001b[0;34m,\u001b[0m \u001b[0maxis\u001b[0m\u001b[0;34m=\u001b[0m\u001b[0;36m0\u001b[0m\u001b[0;34m)\u001b[0m\u001b[0;34m\u001b[0m\u001b[0;34m\u001b[0m\u001b[0m\n\u001b[1;32m     12\u001b[0m     \u001b[0mpredicted_frame\u001b[0m \u001b[0;34m=\u001b[0m \u001b[0mnp\u001b[0m\u001b[0;34m.\u001b[0m\u001b[0mexpand_dims\u001b[0m\u001b[0;34m(\u001b[0m\u001b[0mnew_prediction\u001b[0m\u001b[0;34m[\u001b[0m\u001b[0;34m-\u001b[0m\u001b[0;36m1\u001b[0m\u001b[0;34m,\u001b[0m \u001b[0;34m...\u001b[0m\u001b[0;34m]\u001b[0m\u001b[0;34m,\u001b[0m \u001b[0maxis\u001b[0m\u001b[0;34m=\u001b[0m\u001b[0;36m0\u001b[0m\u001b[0;34m)\u001b[0m\u001b[0;34m\u001b[0m\u001b[0;34m\u001b[0m\u001b[0m\n",
      "\u001b[0;32m/usr/local/lib/python3.6/dist-packages/tensorflow/python/keras/engine/training.py\u001b[0m in \u001b[0;36mpredict\u001b[0;34m(self, x, batch_size, verbose, steps, callbacks, max_queue_size, workers, use_multiprocessing)\u001b[0m\n\u001b[1;32m   1725\u001b[0m           \u001b[0;32mfor\u001b[0m \u001b[0mstep\u001b[0m \u001b[0;32min\u001b[0m \u001b[0mdata_handler\u001b[0m\u001b[0;34m.\u001b[0m\u001b[0msteps\u001b[0m\u001b[0;34m(\u001b[0m\u001b[0;34m)\u001b[0m\u001b[0;34m:\u001b[0m\u001b[0;34m\u001b[0m\u001b[0;34m\u001b[0m\u001b[0m\n\u001b[1;32m   1726\u001b[0m             \u001b[0mcallbacks\u001b[0m\u001b[0;34m.\u001b[0m\u001b[0mon_predict_batch_begin\u001b[0m\u001b[0;34m(\u001b[0m\u001b[0mstep\u001b[0m\u001b[0;34m)\u001b[0m\u001b[0;34m\u001b[0m\u001b[0;34m\u001b[0m\u001b[0m\n\u001b[0;32m-> 1727\u001b[0;31m             \u001b[0mtmp_batch_outputs\u001b[0m \u001b[0;34m=\u001b[0m \u001b[0mself\u001b[0m\u001b[0;34m.\u001b[0m\u001b[0mpredict_function\u001b[0m\u001b[0;34m(\u001b[0m\u001b[0miterator\u001b[0m\u001b[0;34m)\u001b[0m\u001b[0;34m\u001b[0m\u001b[0;34m\u001b[0m\u001b[0m\n\u001b[0m\u001b[1;32m   1728\u001b[0m             \u001b[0;32mif\u001b[0m \u001b[0mdata_handler\u001b[0m\u001b[0;34m.\u001b[0m\u001b[0mshould_sync\u001b[0m\u001b[0;34m:\u001b[0m\u001b[0;34m\u001b[0m\u001b[0;34m\u001b[0m\u001b[0m\n\u001b[1;32m   1729\u001b[0m               \u001b[0mcontext\u001b[0m\u001b[0;34m.\u001b[0m\u001b[0masync_wait\u001b[0m\u001b[0;34m(\u001b[0m\u001b[0;34m)\u001b[0m\u001b[0;34m\u001b[0m\u001b[0;34m\u001b[0m\u001b[0m\n",
      "\u001b[0;32m/usr/local/lib/python3.6/dist-packages/tensorflow/python/eager/def_function.py\u001b[0m in \u001b[0;36m__call__\u001b[0;34m(self, *args, **kwds)\u001b[0m\n\u001b[1;32m    887\u001b[0m \u001b[0;34m\u001b[0m\u001b[0m\n\u001b[1;32m    888\u001b[0m       \u001b[0;32mwith\u001b[0m \u001b[0mOptionalXlaContext\u001b[0m\u001b[0;34m(\u001b[0m\u001b[0mself\u001b[0m\u001b[0;34m.\u001b[0m\u001b[0m_jit_compile\u001b[0m\u001b[0;34m)\u001b[0m\u001b[0;34m:\u001b[0m\u001b[0;34m\u001b[0m\u001b[0;34m\u001b[0m\u001b[0m\n\u001b[0;32m--> 889\u001b[0;31m         \u001b[0mresult\u001b[0m \u001b[0;34m=\u001b[0m \u001b[0mself\u001b[0m\u001b[0;34m.\u001b[0m\u001b[0m_call\u001b[0m\u001b[0;34m(\u001b[0m\u001b[0;34m*\u001b[0m\u001b[0margs\u001b[0m\u001b[0;34m,\u001b[0m \u001b[0;34m**\u001b[0m\u001b[0mkwds\u001b[0m\u001b[0;34m)\u001b[0m\u001b[0;34m\u001b[0m\u001b[0;34m\u001b[0m\u001b[0m\n\u001b[0m\u001b[1;32m    890\u001b[0m \u001b[0;34m\u001b[0m\u001b[0m\n\u001b[1;32m    891\u001b[0m       \u001b[0mnew_tracing_count\u001b[0m \u001b[0;34m=\u001b[0m \u001b[0mself\u001b[0m\u001b[0;34m.\u001b[0m\u001b[0mexperimental_get_tracing_count\u001b[0m\u001b[0;34m(\u001b[0m\u001b[0;34m)\u001b[0m\u001b[0;34m\u001b[0m\u001b[0;34m\u001b[0m\u001b[0m\n",
      "\u001b[0;32m/usr/local/lib/python3.6/dist-packages/tensorflow/python/eager/def_function.py\u001b[0m in \u001b[0;36m_call\u001b[0;34m(self, *args, **kwds)\u001b[0m\n\u001b[1;32m    931\u001b[0m       \u001b[0;31m# This is the first call of __call__, so we have to initialize.\u001b[0m\u001b[0;34m\u001b[0m\u001b[0;34m\u001b[0m\u001b[0;34m\u001b[0m\u001b[0m\n\u001b[1;32m    932\u001b[0m       \u001b[0minitializers\u001b[0m \u001b[0;34m=\u001b[0m \u001b[0;34m[\u001b[0m\u001b[0;34m]\u001b[0m\u001b[0;34m\u001b[0m\u001b[0;34m\u001b[0m\u001b[0m\n\u001b[0;32m--> 933\u001b[0;31m       \u001b[0mself\u001b[0m\u001b[0;34m.\u001b[0m\u001b[0m_initialize\u001b[0m\u001b[0;34m(\u001b[0m\u001b[0margs\u001b[0m\u001b[0;34m,\u001b[0m \u001b[0mkwds\u001b[0m\u001b[0;34m,\u001b[0m \u001b[0madd_initializers_to\u001b[0m\u001b[0;34m=\u001b[0m\u001b[0minitializers\u001b[0m\u001b[0;34m)\u001b[0m\u001b[0;34m\u001b[0m\u001b[0;34m\u001b[0m\u001b[0m\n\u001b[0m\u001b[1;32m    934\u001b[0m     \u001b[0;32mfinally\u001b[0m\u001b[0;34m:\u001b[0m\u001b[0;34m\u001b[0m\u001b[0;34m\u001b[0m\u001b[0m\n\u001b[1;32m    935\u001b[0m       \u001b[0;31m# At this point we know that the initialization is complete (or less\u001b[0m\u001b[0;34m\u001b[0m\u001b[0;34m\u001b[0m\u001b[0;34m\u001b[0m\u001b[0m\n",
      "\u001b[0;32m/usr/local/lib/python3.6/dist-packages/tensorflow/python/eager/def_function.py\u001b[0m in \u001b[0;36m_initialize\u001b[0;34m(self, args, kwds, add_initializers_to)\u001b[0m\n\u001b[1;32m    762\u001b[0m     self._concrete_stateful_fn = (\n\u001b[1;32m    763\u001b[0m         self._stateful_fn._get_concrete_function_internal_garbage_collected(  # pylint: disable=protected-access\n\u001b[0;32m--> 764\u001b[0;31m             *args, **kwds))\n\u001b[0m\u001b[1;32m    765\u001b[0m \u001b[0;34m\u001b[0m\u001b[0m\n\u001b[1;32m    766\u001b[0m     \u001b[0;32mdef\u001b[0m \u001b[0minvalid_creator_scope\u001b[0m\u001b[0;34m(\u001b[0m\u001b[0;34m*\u001b[0m\u001b[0munused_args\u001b[0m\u001b[0;34m,\u001b[0m \u001b[0;34m**\u001b[0m\u001b[0munused_kwds\u001b[0m\u001b[0;34m)\u001b[0m\u001b[0;34m:\u001b[0m\u001b[0;34m\u001b[0m\u001b[0;34m\u001b[0m\u001b[0m\n",
      "\u001b[0;32m/usr/local/lib/python3.6/dist-packages/tensorflow/python/eager/function.py\u001b[0m in \u001b[0;36m_get_concrete_function_internal_garbage_collected\u001b[0;34m(self, *args, **kwargs)\u001b[0m\n\u001b[1;32m   3048\u001b[0m       \u001b[0margs\u001b[0m\u001b[0;34m,\u001b[0m \u001b[0mkwargs\u001b[0m \u001b[0;34m=\u001b[0m \u001b[0;32mNone\u001b[0m\u001b[0;34m,\u001b[0m \u001b[0;32mNone\u001b[0m\u001b[0;34m\u001b[0m\u001b[0;34m\u001b[0m\u001b[0m\n\u001b[1;32m   3049\u001b[0m     \u001b[0;32mwith\u001b[0m \u001b[0mself\u001b[0m\u001b[0;34m.\u001b[0m\u001b[0m_lock\u001b[0m\u001b[0;34m:\u001b[0m\u001b[0;34m\u001b[0m\u001b[0;34m\u001b[0m\u001b[0m\n\u001b[0;32m-> 3050\u001b[0;31m       \u001b[0mgraph_function\u001b[0m\u001b[0;34m,\u001b[0m \u001b[0m_\u001b[0m \u001b[0;34m=\u001b[0m \u001b[0mself\u001b[0m\u001b[0;34m.\u001b[0m\u001b[0m_maybe_define_function\u001b[0m\u001b[0;34m(\u001b[0m\u001b[0margs\u001b[0m\u001b[0;34m,\u001b[0m \u001b[0mkwargs\u001b[0m\u001b[0;34m)\u001b[0m\u001b[0;34m\u001b[0m\u001b[0;34m\u001b[0m\u001b[0m\n\u001b[0m\u001b[1;32m   3051\u001b[0m     \u001b[0;32mreturn\u001b[0m \u001b[0mgraph_function\u001b[0m\u001b[0;34m\u001b[0m\u001b[0;34m\u001b[0m\u001b[0m\n\u001b[1;32m   3052\u001b[0m \u001b[0;34m\u001b[0m\u001b[0m\n",
      "\u001b[0;32m/usr/local/lib/python3.6/dist-packages/tensorflow/python/eager/function.py\u001b[0m in \u001b[0;36m_maybe_define_function\u001b[0;34m(self, args, kwargs)\u001b[0m\n\u001b[1;32m   3442\u001b[0m \u001b[0;34m\u001b[0m\u001b[0m\n\u001b[1;32m   3443\u001b[0m           \u001b[0mself\u001b[0m\u001b[0;34m.\u001b[0m\u001b[0m_function_cache\u001b[0m\u001b[0;34m.\u001b[0m\u001b[0mmissed\u001b[0m\u001b[0;34m.\u001b[0m\u001b[0madd\u001b[0m\u001b[0;34m(\u001b[0m\u001b[0mcall_context_key\u001b[0m\u001b[0;34m)\u001b[0m\u001b[0;34m\u001b[0m\u001b[0;34m\u001b[0m\u001b[0m\n\u001b[0;32m-> 3444\u001b[0;31m           \u001b[0mgraph_function\u001b[0m \u001b[0;34m=\u001b[0m \u001b[0mself\u001b[0m\u001b[0;34m.\u001b[0m\u001b[0m_create_graph_function\u001b[0m\u001b[0;34m(\u001b[0m\u001b[0margs\u001b[0m\u001b[0;34m,\u001b[0m \u001b[0mkwargs\u001b[0m\u001b[0;34m)\u001b[0m\u001b[0;34m\u001b[0m\u001b[0;34m\u001b[0m\u001b[0m\n\u001b[0m\u001b[1;32m   3445\u001b[0m           \u001b[0mself\u001b[0m\u001b[0;34m.\u001b[0m\u001b[0m_function_cache\u001b[0m\u001b[0;34m.\u001b[0m\u001b[0mprimary\u001b[0m\u001b[0;34m[\u001b[0m\u001b[0mcache_key\u001b[0m\u001b[0;34m]\u001b[0m \u001b[0;34m=\u001b[0m \u001b[0mgraph_function\u001b[0m\u001b[0;34m\u001b[0m\u001b[0;34m\u001b[0m\u001b[0m\n\u001b[1;32m   3446\u001b[0m \u001b[0;34m\u001b[0m\u001b[0m\n",
      "\u001b[0;32m/usr/local/lib/python3.6/dist-packages/tensorflow/python/eager/function.py\u001b[0m in \u001b[0;36m_create_graph_function\u001b[0;34m(self, args, kwargs, override_flat_arg_shapes)\u001b[0m\n\u001b[1;32m   3287\u001b[0m             \u001b[0marg_names\u001b[0m\u001b[0;34m=\u001b[0m\u001b[0marg_names\u001b[0m\u001b[0;34m,\u001b[0m\u001b[0;34m\u001b[0m\u001b[0;34m\u001b[0m\u001b[0m\n\u001b[1;32m   3288\u001b[0m             \u001b[0moverride_flat_arg_shapes\u001b[0m\u001b[0;34m=\u001b[0m\u001b[0moverride_flat_arg_shapes\u001b[0m\u001b[0;34m,\u001b[0m\u001b[0;34m\u001b[0m\u001b[0;34m\u001b[0m\u001b[0m\n\u001b[0;32m-> 3289\u001b[0;31m             capture_by_value=self._capture_by_value),\n\u001b[0m\u001b[1;32m   3290\u001b[0m         \u001b[0mself\u001b[0m\u001b[0;34m.\u001b[0m\u001b[0m_function_attributes\u001b[0m\u001b[0;34m,\u001b[0m\u001b[0;34m\u001b[0m\u001b[0;34m\u001b[0m\u001b[0m\n\u001b[1;32m   3291\u001b[0m         \u001b[0mfunction_spec\u001b[0m\u001b[0;34m=\u001b[0m\u001b[0mself\u001b[0m\u001b[0;34m.\u001b[0m\u001b[0mfunction_spec\u001b[0m\u001b[0;34m,\u001b[0m\u001b[0;34m\u001b[0m\u001b[0;34m\u001b[0m\u001b[0m\n",
      "\u001b[0;32m/usr/local/lib/python3.6/dist-packages/tensorflow/python/framework/func_graph.py\u001b[0m in \u001b[0;36mfunc_graph_from_py_func\u001b[0;34m(name, python_func, args, kwargs, signature, func_graph, autograph, autograph_options, add_control_dependencies, arg_names, op_return_value, collections, capture_by_value, override_flat_arg_shapes)\u001b[0m\n\u001b[1;32m    997\u001b[0m         \u001b[0m_\u001b[0m\u001b[0;34m,\u001b[0m \u001b[0moriginal_func\u001b[0m \u001b[0;34m=\u001b[0m \u001b[0mtf_decorator\u001b[0m\u001b[0;34m.\u001b[0m\u001b[0munwrap\u001b[0m\u001b[0;34m(\u001b[0m\u001b[0mpython_func\u001b[0m\u001b[0;34m)\u001b[0m\u001b[0;34m\u001b[0m\u001b[0;34m\u001b[0m\u001b[0m\n\u001b[1;32m    998\u001b[0m \u001b[0;34m\u001b[0m\u001b[0m\n\u001b[0;32m--> 999\u001b[0;31m       \u001b[0mfunc_outputs\u001b[0m \u001b[0;34m=\u001b[0m \u001b[0mpython_func\u001b[0m\u001b[0;34m(\u001b[0m\u001b[0;34m*\u001b[0m\u001b[0mfunc_args\u001b[0m\u001b[0;34m,\u001b[0m \u001b[0;34m**\u001b[0m\u001b[0mfunc_kwargs\u001b[0m\u001b[0;34m)\u001b[0m\u001b[0;34m\u001b[0m\u001b[0;34m\u001b[0m\u001b[0m\n\u001b[0m\u001b[1;32m   1000\u001b[0m \u001b[0;34m\u001b[0m\u001b[0m\n\u001b[1;32m   1001\u001b[0m       \u001b[0;31m# invariant: `func_outputs` contains only Tensors, CompositeTensors,\u001b[0m\u001b[0;34m\u001b[0m\u001b[0;34m\u001b[0m\u001b[0;34m\u001b[0m\u001b[0m\n",
      "\u001b[0;32m/usr/local/lib/python3.6/dist-packages/tensorflow/python/eager/def_function.py\u001b[0m in \u001b[0;36mwrapped_fn\u001b[0;34m(*args, **kwds)\u001b[0m\n\u001b[1;32m    670\u001b[0m         \u001b[0;31m# the function a weak reference to itself to avoid a reference cycle.\u001b[0m\u001b[0;34m\u001b[0m\u001b[0;34m\u001b[0m\u001b[0;34m\u001b[0m\u001b[0m\n\u001b[1;32m    671\u001b[0m         \u001b[0;32mwith\u001b[0m \u001b[0mOptionalXlaContext\u001b[0m\u001b[0;34m(\u001b[0m\u001b[0mcompile_with_xla\u001b[0m\u001b[0;34m)\u001b[0m\u001b[0;34m:\u001b[0m\u001b[0;34m\u001b[0m\u001b[0;34m\u001b[0m\u001b[0m\n\u001b[0;32m--> 672\u001b[0;31m           \u001b[0mout\u001b[0m \u001b[0;34m=\u001b[0m \u001b[0mweak_wrapped_fn\u001b[0m\u001b[0;34m(\u001b[0m\u001b[0;34m)\u001b[0m\u001b[0;34m.\u001b[0m\u001b[0m__wrapped__\u001b[0m\u001b[0;34m(\u001b[0m\u001b[0;34m*\u001b[0m\u001b[0margs\u001b[0m\u001b[0;34m,\u001b[0m \u001b[0;34m**\u001b[0m\u001b[0mkwds\u001b[0m\u001b[0;34m)\u001b[0m\u001b[0;34m\u001b[0m\u001b[0;34m\u001b[0m\u001b[0m\n\u001b[0m\u001b[1;32m    673\u001b[0m         \u001b[0;32mreturn\u001b[0m \u001b[0mout\u001b[0m\u001b[0;34m\u001b[0m\u001b[0;34m\u001b[0m\u001b[0m\n\u001b[1;32m    674\u001b[0m \u001b[0;34m\u001b[0m\u001b[0m\n",
      "\u001b[0;32m/usr/local/lib/python3.6/dist-packages/tensorflow/python/framework/func_graph.py\u001b[0m in \u001b[0;36mwrapper\u001b[0;34m(*args, **kwargs)\u001b[0m\n\u001b[1;32m    984\u001b[0m           \u001b[0;32mexcept\u001b[0m \u001b[0mException\u001b[0m \u001b[0;32mas\u001b[0m \u001b[0me\u001b[0m\u001b[0;34m:\u001b[0m  \u001b[0;31m# pylint:disable=broad-except\u001b[0m\u001b[0;34m\u001b[0m\u001b[0;34m\u001b[0m\u001b[0m\n\u001b[1;32m    985\u001b[0m             \u001b[0;32mif\u001b[0m \u001b[0mhasattr\u001b[0m\u001b[0;34m(\u001b[0m\u001b[0me\u001b[0m\u001b[0;34m,\u001b[0m \u001b[0;34m\"ag_error_metadata\"\u001b[0m\u001b[0;34m)\u001b[0m\u001b[0;34m:\u001b[0m\u001b[0;34m\u001b[0m\u001b[0;34m\u001b[0m\u001b[0m\n\u001b[0;32m--> 986\u001b[0;31m               \u001b[0;32mraise\u001b[0m \u001b[0me\u001b[0m\u001b[0;34m.\u001b[0m\u001b[0mag_error_metadata\u001b[0m\u001b[0;34m.\u001b[0m\u001b[0mto_exception\u001b[0m\u001b[0;34m(\u001b[0m\u001b[0me\u001b[0m\u001b[0;34m)\u001b[0m\u001b[0;34m\u001b[0m\u001b[0;34m\u001b[0m\u001b[0m\n\u001b[0m\u001b[1;32m    987\u001b[0m             \u001b[0;32melse\u001b[0m\u001b[0;34m:\u001b[0m\u001b[0;34m\u001b[0m\u001b[0;34m\u001b[0m\u001b[0m\n\u001b[1;32m    988\u001b[0m               \u001b[0;32mraise\u001b[0m\u001b[0;34m\u001b[0m\u001b[0;34m\u001b[0m\u001b[0m\n",
      "\u001b[0;31mValueError\u001b[0m: in user code:\n\n    /usr/local/lib/python3.6/dist-packages/tensorflow/python/keras/engine/training.py:1569 predict_function  *\n        return step_function(self, iterator)\n    /usr/local/lib/python3.6/dist-packages/tensorflow/python/keras/engine/training.py:1559 step_function  **\n        outputs = model.distribute_strategy.run(run_step, args=(data,))\n    /usr/local/lib/python3.6/dist-packages/tensorflow/python/distribute/distribute_lib.py:1285 run\n        return self._extended.call_for_each_replica(fn, args=args, kwargs=kwargs)\n    /usr/local/lib/python3.6/dist-packages/tensorflow/python/distribute/distribute_lib.py:2833 call_for_each_replica\n        return self._call_for_each_replica(fn, args, kwargs)\n    /usr/local/lib/python3.6/dist-packages/tensorflow/python/distribute/distribute_lib.py:3608 _call_for_each_replica\n        return fn(*args, **kwargs)\n    /usr/local/lib/python3.6/dist-packages/tensorflow/python/keras/engine/training.py:1552 run_step  **\n        outputs = model.predict_step(data)\n    /usr/local/lib/python3.6/dist-packages/tensorflow/python/keras/engine/training.py:1525 predict_step\n        return self(x, training=False)\n    /usr/local/lib/python3.6/dist-packages/tensorflow/python/keras/engine/base_layer.py:1030 __call__\n        outputs = call_fn(inputs, *args, **kwargs)\n    /usr/local/lib/python3.6/dist-packages/tensorflow/python/keras/engine/functional.py:421 call\n        inputs, training=training, mask=mask)\n    /usr/local/lib/python3.6/dist-packages/tensorflow/python/keras/engine/functional.py:556 _run_internal_graph\n        outputs = node.layer(*args, **kwargs)\n    /usr/local/lib/python3.6/dist-packages/tensorflow/python/keras/layers/recurrent.py:668 __call__\n        return super(RNN, self).__call__(inputs, **kwargs)\n    /usr/local/lib/python3.6/dist-packages/tensorflow/python/keras/engine/base_layer.py:1013 __call__\n        input_spec.assert_input_compatibility(self.input_spec, inputs, self.name)\n    /usr/local/lib/python3.6/dist-packages/tensorflow/python/keras/engine/input_spec.py:219 assert_input_compatibility\n        str(tuple(shape)))\n\n    ValueError: Input 0 of layer ConvLSTM2D_1 is incompatible with the layer: expected ndim=5, found ndim=3. Full shape received: (None, 10, 100)\n"
     ]
    }
   ],
   "source": [
    "example = val_dataset[np.random.choice(range(len(val_dataset)), size=1)[0]]\n",
    "\n",
    "# Pick the first/last ten frames from the example.\n",
    "frames = example[:10, ...]\n",
    "original_frames = example[10:, ...]\n",
    "\n",
    "# Predict a new set of 10 frames.\n",
    "for _ in range(10):\n",
    "    # Extract the model's prediction and post-process it.\n",
    "    new_prediction = model.predict(reshapeData(frames))\n",
    "    new_prediction = np.squeeze(new_prediction, axis=0)\n",
    "    predicted_frame = reshapeData(new_prediction) \n",
    "\n",
    "    # Extend the set of prediction frames.\n",
    "    frames = np.concatenate((frames, predicted_frame), axis=0)\n",
    "\n",
    "# Construct a figure for the original and new frames.\n",
    "fig, axes = plt.subplots(2, 10, figsize=(20, 4))\n",
    "\n",
    "# Plot the original frames.\n",
    "for idx, ax in enumerate(axes[0]):\n",
    "    ax.imshow(np.squeeze(original_frames[idx]), cmap=\"gray\")\n",
    "    ax.set_title(f\"Frame {idx + 11}\")\n",
    "    ax.axis(\"off\")\n",
    "\n",
    "# Plot the new frames.\n",
    "new_frames = frames[10:, ...]\n",
    "for idx, ax in enumerate(axes[1]):\n",
    "    ax.imshow(np.squeeze(new_frames[idx]), cmap=\"gray\")\n",
    "    ax.set_title(f\"Frame {idx + 11}\")\n",
    "    ax.axis(\"off\")\n",
    "\n",
    "# Display the figure.\n",
    "plt.show()"
   ]
  },
  {
   "cell_type": "code",
   "execution_count": null,
   "metadata": {},
   "outputs": [],
   "source": []
  }
 ],
 "metadata": {
  "kernelspec": {
   "display_name": "Python 3",
   "language": "python",
   "name": "python3"
  },
  "language_info": {
   "codemirror_mode": {
    "name": "ipython",
    "version": 3
   },
   "file_extension": ".py",
   "mimetype": "text/x-python",
   "name": "python",
   "nbconvert_exporter": "python",
   "pygments_lexer": "ipython3",
   "version": "3.6.9"
  }
 },
 "nbformat": 4,
 "nbformat_minor": 2
}
