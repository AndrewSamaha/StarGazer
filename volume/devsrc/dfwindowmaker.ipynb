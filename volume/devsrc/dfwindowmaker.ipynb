{
 "cells": [
  {
   "cell_type": "code",
   "execution_count": 1,
   "metadata": {},
   "outputs": [
    {
     "data": {
      "text/html": [
       "<style>.container { width:100% !important; }</style>"
      ],
      "text/plain": [
       "<IPython.core.display.HTML object>"
      ]
     },
     "metadata": {},
     "output_type": "display_data"
    }
   ],
   "source": [
    "%load_ext autoreload\n",
    "%autoreload 2\n",
    "import numpy as np\n",
    "import pandas as pd\n",
    "import matplotlib.pyplot as plt\n",
    "\n",
    "import tensorflow as tf\n",
    "from tensorflow import keras\n",
    "from tensorflow.keras import layers\n",
    "\n",
    "import io\n",
    "import imageio\n",
    "from IPython.display import Image, display\n",
    "from ipywidgets import widgets, Layout, HBox\n",
    "from matplotlib.backends.backend_agg import FigureCanvasAgg as FigureCanvas\n",
    "from sklearn.preprocessing import StandardScaler, MinMaxScaler\n",
    "from matplotlib.figure import Figure\n",
    "import math\n",
    "import imageio\n",
    "import datetime\n",
    "from os import walk\n",
    "from scipy import stats\n",
    "\n",
    "from ConvLSTM import ConvLSTM\n",
    "from SlimAutoencoder import SlimAutoencoderBuilder\n",
    "from rea_cd_autoencoder import REA_CD_Autoencoder\n",
    "from dataloader import hillsborough_county_rea_cd_encoded as hc_rea_cd_encoded\n",
    "from datawrangler import DataWrangler\n",
    "\n",
    "\n",
    "# random forest\n",
    "from sklearn.neighbors import KNeighborsClassifier, KNeighborsRegressor\n",
    "from sklearn.linear_model import LinearRegression, LogisticRegression, Ridge\n",
    "from sklearn.pipeline import Pipeline\n",
    "from sklearn.model_selection import train_test_split, KFold, GridSearchCV\n",
    "from sklearn.preprocessing import StandardScaler\n",
    "from sklearn.tree import DecisionTreeClassifier, DecisionTreeRegressor, plot_tree\n",
    "from sklearn.ensemble import RandomForestClassifier, RandomForestRegressor\n",
    "\n",
    "from sklearn.metrics import mean_squared_error\n",
    "import random\n",
    "\n",
    "#file io\n",
    "import pickle\n",
    "\n",
    "import multiprocessing\n",
    "from IPython.core.display import display, HTML\n",
    "display(HTML(\"<style>.container { width:100% !important; }</style>\"))\n",
    "pd.set_option('display.max_columns', None)\n",
    "pd.set_option('display.max_rows', None)"
   ]
  },
  {
   "cell_type": "code",
   "execution_count": 145,
   "metadata": {},
   "outputs": [
    {
     "data": {
      "text/plain": [
       "(1286573, 753)"
      ]
     },
     "execution_count": 145,
     "metadata": {},
     "output_type": "execute_result"
    }
   ],
   "source": [
    "df = pd.read_pickle('../Datasets/residential_conveyances_jan2000_and_up_ohe.pickle')\n",
    "df.shape"
   ]
  },
  {
   "cell_type": "code",
   "execution_count": 119,
   "metadata": {},
   "outputs": [
    {
     "name": "stdout",
     "output_type": "stream",
     "text": [
      "<class 'pandas._libs.tslibs.timestamps.Timestamp'>\n"
     ]
    }
   ],
   "source": [
    "df[ pd.to_datetime(df['S_DATE_x']) > pd.to_datetime('08-20-2020')].shape\n",
    "print(type(pd.to_datetime('08-20-2020')))"
   ]
  },
  {
   "cell_type": "code",
   "execution_count": 392,
   "metadata": {},
   "outputs": [],
   "source": [
    "def adjustDates(df, date_col, new_end_date):\n",
    "    #print(new_end_date[0], type(new_end_date[0]))\n",
    "    out = df.copy()\n",
    "    out['daysago'] = (new_end_date[0] - pd.to_datetime(df[date_col])).dt.days\n",
    "    return out"
   ]
  },
  {
   "cell_type": "code",
   "execution_count": 393,
   "metadata": {},
   "outputs": [],
   "source": [
    "def getSliceAndChangeDates(df, start_date, end_date):\n",
    "    #print(start_date[0])\n",
    "    #print(type(end_date.date[0]))\n",
    "    \n",
    "    maskleft = (pd.to_datetime(df['S_DATE_x']) >= start_date[0])\n",
    "    maskright = (pd.to_datetime(df['S_DATE_x']) < end_date[0])\n",
    "    df = df[ maskleft & maskright ]\n",
    "    #print(f\"     {maskleft.shape} {maskright.shape}\")\n",
    "    return df"
   ]
  },
  {
   "cell_type": "code",
   "execution_count": 434,
   "metadata": {},
   "outputs": [],
   "source": [
    "def sliceIntoHistoricalWindows(df, history_length_in_days=365*5, step_size_in_days=365/2, pickle_path='../Datasets/windows/'):\n",
    "    '''\n",
    "    history_length_in_days - the number of days to look back and generate a history for\n",
    "    step_size_in_days      - the number of days we step backwards to generate a new history\n",
    "    '''\n",
    "    df = df.copy()\n",
    "    start_date = pd.to_datetime(df[:1]['S_DATE_x'].values)\n",
    "    end_date = pd.to_datetime(df[-1:]['S_DATE_x'].values)\n",
    "    \n",
    "    total_span = end_date - start_date\n",
    "    current_end_date = end_date\n",
    "    current_start_date = pd.to_datetime(current_end_date) - pd.to_timedelta(f\"{history_length_in_days} days\")\n",
    "    window = 0\n",
    "    while current_start_date >= start_date:\n",
    "        \n",
    "        #do logic\n",
    "        \n",
    "        # grab the data from the previous history_length_in_days\n",
    "        thisSlice = getSliceAndChangeDates(df, current_start_date, current_end_date)\n",
    "        \n",
    "        # create a 'daysago' column measuring time from the current_end_date\n",
    "        thisSlice = adjustDates(thisSlice, 'S_DATE_x', current_end_date)\n",
    "        \n",
    "        filename = f\"df.{current_start_date.strftime('%Y-%m-%d')[0]}..{current_end_date.strftime('%Y-%m-%d')[0]}.pickle\"\n",
    "        print(f\"writing {filename}\")\n",
    "        thisSlice.to_pickle(f\"{pickle_path}/{filename}\")\n",
    "        \n",
    "    \n",
    "        #slide window back\n",
    "        current_end_date = pd.to_datetime(current_end_date) - pd.to_timedelta(f\"{step_size_in_days} days\")\n",
    "        current_start_date = pd.to_datetime(current_end_date) - pd.to_timedelta(f\"{history_length_in_days} days\")\n",
    "        window += 1\n"
   ]
  },
  {
   "cell_type": "code",
   "execution_count": 435,
   "metadata": {
    "scrolled": true
   },
   "outputs": [
    {
     "name": "stdout",
     "output_type": "stream",
     "text": [
      "writing df.2016-08-12..2021-08-11.pickle\n",
      "writing df.2016-02-11..2021-02-09.pickle\n",
      "writing df.2015-08-13..2020-08-11.pickle\n",
      "writing df.2015-02-11..2020-02-10.pickle\n",
      "writing df.2014-08-13..2019-08-12.pickle\n",
      "writing df.2014-02-11..2019-02-10.pickle\n",
      "writing df.2013-08-13..2018-08-12.pickle\n",
      "writing df.2013-02-11..2018-02-10.pickle\n",
      "writing df.2012-08-13..2017-08-12.pickle\n",
      "writing df.2012-02-12..2017-02-10.pickle\n",
      "writing df.2011-08-14..2016-08-12.pickle\n",
      "writing df.2011-02-12..2016-02-11.pickle\n",
      "writing df.2010-08-14..2015-08-13.pickle\n",
      "writing df.2010-02-12..2015-02-11.pickle\n",
      "writing df.2009-08-14..2014-08-13.pickle\n",
      "writing df.2009-02-12..2014-02-11.pickle\n",
      "writing df.2008-08-14..2013-08-13.pickle\n",
      "writing df.2008-02-13..2013-02-11.pickle\n",
      "writing df.2007-08-15..2012-08-13.pickle\n",
      "writing df.2007-02-13..2012-02-12.pickle\n",
      "writing df.2006-08-15..2011-08-14.pickle\n",
      "writing df.2006-02-13..2011-02-12.pickle\n",
      "writing df.2005-08-15..2010-08-14.pickle\n",
      "writing df.2005-02-13..2010-02-12.pickle\n",
      "writing df.2004-08-15..2009-08-14.pickle\n",
      "writing df.2004-02-14..2009-02-12.pickle\n",
      "writing df.2003-08-16..2008-08-14.pickle\n",
      "writing df.2003-02-14..2008-02-13.pickle\n",
      "writing df.2002-08-16..2007-08-15.pickle\n",
      "writing df.2002-02-14..2007-02-13.pickle\n",
      "writing df.2001-08-16..2006-08-15.pickle\n",
      "writing df.2001-02-14..2006-02-13.pickle\n",
      "writing df.2000-08-16..2005-08-15.pickle\n",
      "writing df.2000-02-15..2005-02-13.pickle\n"
     ]
    }
   ],
   "source": [
    "sliceIntoHistoricalWindows(df)"
   ]
  },
  {
   "cell_type": "code",
   "execution_count": null,
   "metadata": {},
   "outputs": [],
   "source": []
  }
 ],
 "metadata": {
  "kernelspec": {
   "display_name": "Python 3",
   "language": "python",
   "name": "python3"
  },
  "language_info": {
   "codemirror_mode": {
    "name": "ipython",
    "version": 3
   },
   "file_extension": ".py",
   "mimetype": "text/x-python",
   "name": "python",
   "nbconvert_exporter": "python",
   "pygments_lexer": "ipython3",
   "version": "3.6.9"
  }
 },
 "nbformat": 4,
 "nbformat_minor": 2
}
