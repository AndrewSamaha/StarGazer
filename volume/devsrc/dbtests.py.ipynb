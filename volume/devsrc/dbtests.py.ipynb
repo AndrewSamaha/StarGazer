{
 "cells": [
  {
   "cell_type": "code",
   "execution_count": 1,
   "metadata": {},
   "outputs": [],
   "source": [
    "import mysql.connector as mysql\n",
    "import numpy as np\n",
    "import base64\n",
    "import PIL\n",
    "from PIL import Image as Image\n",
    "import io\n",
    "import re\n",
    "import pandas as pd\n",
    "\n",
    "\n",
    "'''\n",
    "Basic DB Functions\n",
    "'''\n",
    "def dfQuery(query):\n",
    "    cnx = mysql.connect(\n",
    "        host=\"db\",\n",
    "        port=3306,\n",
    "        user=\"root\",\n",
    "        password=\"datascience\")\n",
    "    cur = cnx.cursor()\n",
    "\n",
    "    # Execute a query\n",
    "    cur.execute(query)\n",
    "\n",
    "    # Fetch one result\n",
    "    result = cur.fetchall()\n",
    "    field_names = [ i [0] for i in cur.description ]\n",
    "    df = pd.DataFrame( result, columns=field_names)\n",
    "    \n",
    "    cnx.close()\n",
    "    return df\n"
   ]
  },
  {
   "cell_type": "code",
   "execution_count": 2,
   "metadata": {},
   "outputs": [
    {
     "data": {
      "text/html": [
       "<div>\n",
       "<style scoped>\n",
       "    .dataframe tbody tr th:only-of-type {\n",
       "        vertical-align: middle;\n",
       "    }\n",
       "\n",
       "    .dataframe tbody tr th {\n",
       "        vertical-align: top;\n",
       "    }\n",
       "\n",
       "    .dataframe thead th {\n",
       "        text-align: right;\n",
       "    }\n",
       "</style>\n",
       "<table border=\"1\" class=\"dataframe\">\n",
       "  <thead>\n",
       "    <tr style=\"text-align: right;\">\n",
       "      <th></th>\n",
       "      <th>index</th>\n",
       "      <th>NBHC_x</th>\n",
       "      <th>STR</th>\n",
       "      <th>tBEDS</th>\n",
       "      <th>tBATHS</th>\n",
       "      <th>tSTORIES</th>\n",
       "      <th>tUNITS</th>\n",
       "      <th>tBLDGS</th>\n",
       "      <th>ACT</th>\n",
       "      <th>EFF</th>\n",
       "      <th>HEAT_AR</th>\n",
       "      <th>BASE</th>\n",
       "      <th>ACREAGE</th>\n",
       "      <th>encoded_x</th>\n",
       "      <th>encoded_y</th>\n",
       "      <th>Date</th>\n",
       "      <th>REA_CD</th>\n",
       "    </tr>\n",
       "  </thead>\n",
       "  <tbody>\n",
       "    <tr>\n",
       "      <th>0</th>\n",
       "      <td>774332</td>\n",
       "      <td>227002.0</td>\n",
       "      <td>7683</td>\n",
       "      <td>0.0</td>\n",
       "      <td>0.0</td>\n",
       "      <td>0.0</td>\n",
       "      <td>0.0</td>\n",
       "      <td>0.0</td>\n",
       "      <td>0.0</td>\n",
       "      <td>0.0</td>\n",
       "      <td>0.0</td>\n",
       "      <td>0.0</td>\n",
       "      <td>0.397661</td>\n",
       "      <td>-0.196108</td>\n",
       "      <td>-2.30864</td>\n",
       "      <td>2000-01-28</td>\n",
       "      <td>05</td>\n",
       "    </tr>\n",
       "  </tbody>\n",
       "</table>\n",
       "</div>"
      ],
      "text/plain": [
       "    index    NBHC_x   STR  tBEDS  tBATHS  tSTORIES  tUNITS  tBLDGS  ACT  EFF  \\\n",
       "0  774332  227002.0  7683    0.0     0.0       0.0     0.0     0.0  0.0  0.0   \n",
       "\n",
       "   HEAT_AR  BASE   ACREAGE  encoded_x  encoded_y        Date REA_CD  \n",
       "0      0.0   0.0  0.397661  -0.196108   -2.30864  2000-01-28     05  "
      ]
     },
     "execution_count": 2,
     "metadata": {},
     "output_type": "execute_result"
    }
   ],
   "source": [
    "dfQuery('select * from stargazer.hills_encoded limit 1;')"
   ]
  },
  {
   "cell_type": "code",
   "execution_count": 14,
   "metadata": {},
   "outputs": [
    {
     "name": "stdout",
     "output_type": "stream",
     "text": [
      "2000-01-28 2021-08-11\n"
     ]
    }
   ],
   "source": [
    "def getDateRange():\n",
    "    start = dfQuery(f\"select distinct Date from stargazer.hills_encoded order by Date ASC limit 1;\")\n",
    "    end = dfQuery(f\"select distinct Date from stargazer.hills_encoded order by Date DESC limit 1;\")\n",
    "    start = start.values[0][0]\n",
    "    end = end.values[0][0]\n",
    "    print(start,end)\n",
    "getDateRange()"
   ]
  },
  {
   "cell_type": "code",
   "execution_count": null,
   "metadata": {},
   "outputs": [],
   "source": []
  }
 ],
 "metadata": {
  "kernelspec": {
   "display_name": "Python 3",
   "language": "python",
   "name": "python3"
  },
  "language_info": {
   "codemirror_mode": {
    "name": "ipython",
    "version": 3
   },
   "file_extension": ".py",
   "mimetype": "text/x-python",
   "name": "python",
   "nbconvert_exporter": "python",
   "pygments_lexer": "ipython3",
   "version": "3.6.9"
  }
 },
 "nbformat": 4,
 "nbformat_minor": 2
}
