{
 "cells": [
  {
   "cell_type": "code",
   "execution_count": null,
   "metadata": {},
   "outputs": [],
   "source": [
    "display(slice_for_folio)\n",
    "dated = test.copy()\n",
    "dated['S_DATE_x'] = pd.to_datetime(dated['S_DATE_x'])\n",
    "dated = dated.set_index(\"S_DATE_x\")\n",
    "print(current_start_date[0])\n",
    "dated = dated.to_period(freq=\"M\")\n",
    "#dated = dated.resample(rule='100D', axis=0, origin=current_start_date[0])\n",
    "display(dated)\n",
    "dated = dated.resample(rule='1M', origin=current_start_date[0])\n",
    "\n",
    "return dated.ffill().asfreq(freq='6M')"
   ]
  }
 ],
 "metadata": {
  "kernelspec": {
   "display_name": "Python 3",
   "language": "python",
   "name": "python3"
  },
  "language_info": {
   "codemirror_mode": {
    "name": "ipython",
    "version": 3
   },
   "file_extension": ".py",
   "mimetype": "text/x-python",
   "name": "python",
   "nbconvert_exporter": "python",
   "pygments_lexer": "ipython3",
   "version": "3.6.9"
  }
 },
 "nbformat": 4,
 "nbformat_minor": 2
}
